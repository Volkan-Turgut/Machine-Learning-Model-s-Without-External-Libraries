{
 "cells": [
  {
   "cell_type": "code",
   "execution_count": 1,
   "id": "68ca7cb6-de1b-458d-b356-3a607bb02574",
   "metadata": {},
   "outputs": [
    {
     "name": "stdout",
     "output_type": "stream",
     "text": [
      "C:\\Users\\Volkan Turgut\\Desktop\\Ontario Tech University Courses\\WINTER TERM\\ENGR 5005 Machine Learning for Engineering Applications\\Code Project\\dataset\\Breat_Cancer_Dataset\n"
     ]
    }
   ],
   "source": [
    "import os\n",
    "BASE_PATH = os.getcwd()  # This is the path where your Python file is running\n",
    "print(BASE_PATH)"
   ]
  },
  {
   "cell_type": "code",
   "execution_count": null,
   "id": "17179dbd-03ca-4152-a162-fbd72d6ac443",
   "metadata": {},
   "outputs": [],
   "source": []
  },
  {
   "cell_type": "code",
   "execution_count": null,
   "id": "629d58ab-0676-473e-a57b-f23c0d464bce",
   "metadata": {},
   "outputs": [],
   "source": []
  }
 ],
 "metadata": {
  "kernelspec": {
   "display_name": "Python 3 (ipykernel)",
   "language": "python",
   "name": "python3"
  },
  "language_info": {
   "codemirror_mode": {
    "name": "ipython",
    "version": 3
   },
   "file_extension": ".py",
   "mimetype": "text/x-python",
   "name": "python",
   "nbconvert_exporter": "python",
   "pygments_lexer": "ipython3",
   "version": "3.12.5"
  }
 },
 "nbformat": 4,
 "nbformat_minor": 5
}
